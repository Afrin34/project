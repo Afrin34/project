{
 "cells": [
  {
   "cell_type": "markdown",
   "metadata": {},
   "source": [
    "# EDA and Prediction of Indian Housing price"
   ]
  },
  {
   "cell_type": "markdown",
   "metadata": {},
   "source": [
    "# Context\n",
    "This data set is created only for the learning purpose of the customer segmentation concepts , also known as house price prediction . I will demonstrate this by using supervised ML technique in the simplest form.\n",
    "\n",
    "Source: Kaggle\n",
    "Url: https://www.kaggle.com/himanshuntt/indian-housing-price"
   ]
  },
  {
   "cell_type": "markdown",
   "metadata": {},
   "source": [
    "### Importing PyForest to avoid the hassel of importing all the libraries. Dataset is being imported"
   ]
  },
  {
   "cell_type": "code",
   "execution_count": 1,
   "metadata": {
    "execution": {
     "iopub.execute_input": "2023-04-29T17:00:26.387617Z",
     "iopub.status.busy": "2023-04-29T17:00:26.387211Z",
     "iopub.status.idle": "2023-04-29T17:00:27.333927Z",
     "shell.execute_reply": "2023-04-29T17:00:27.332972Z",
     "shell.execute_reply.started": "2023-04-29T17:00:26.387583Z"
    }
   },
   "outputs": [],
   "source": [
    "#!pip install PyForest\n",
    "#from pyforest import *\n",
    "#ELSE import required libraries\n",
    "import pandas as pd\n",
    "import numpy as np\n",
    "import seaborn as sns\n",
    "import matplotlib.pyplot as plt"
   ]
  },
  {
   "cell_type": "code",
   "execution_count": 2,
   "metadata": {
    "execution": {
     "iopub.execute_input": "2023-04-29T17:00:27.336348Z",
     "iopub.status.busy": "2023-04-29T17:00:27.335938Z",
     "iopub.status.idle": "2023-04-29T17:00:27.354683Z",
     "shell.execute_reply": "2023-04-29T17:00:27.353627Z",
     "shell.execute_reply.started": "2023-04-29T17:00:27.336312Z"
    }
   },
   "outputs": [],
   "source": [
    "df=pd.read_csv('../input/indian-housing-price/houseprice.csv')"
   ]
  },
  {
   "cell_type": "markdown",
   "metadata": {},
   "source": [
    "### Data spread and diversites inspection"
   ]
  },
  {
   "cell_type": "code",
   "execution_count": 3,
   "metadata": {
    "execution": {
     "iopub.execute_input": "2023-04-29T17:00:34.189626Z",
     "iopub.status.busy": "2023-04-29T17:00:34.189209Z",
     "iopub.status.idle": "2023-04-29T17:00:34.211735Z",
     "shell.execute_reply": "2023-04-29T17:00:34.210303Z",
     "shell.execute_reply.started": "2023-04-29T17:00:34.189587Z"
    }
   },
   "outputs": [
    {
     "data": {
      "text/html": [
       "<div>\n",
       "<style scoped>\n",
       "    .dataframe tbody tr th:only-of-type {\n",
       "        vertical-align: middle;\n",
       "    }\n",
       "\n",
       "    .dataframe tbody tr th {\n",
       "        vertical-align: top;\n",
       "    }\n",
       "\n",
       "    .dataframe thead th {\n",
       "        text-align: right;\n",
       "    }\n",
       "</style>\n",
       "<table border=\"1\" class=\"dataframe\">\n",
       "  <thead>\n",
       "    <tr style=\"text-align: right;\">\n",
       "      <th></th>\n",
       "      <th>Living Area</th>\n",
       "      <th>Bathrooms</th>\n",
       "      <th>Bedrooms</th>\n",
       "      <th>Lot Size</th>\n",
       "      <th>Age</th>\n",
       "      <th>Fireplace</th>\n",
       "      <th>Price</th>\n",
       "    </tr>\n",
       "  </thead>\n",
       "  <tbody>\n",
       "    <tr>\n",
       "      <th>0</th>\n",
       "      <td>1.982</td>\n",
       "      <td>1.0</td>\n",
       "      <td>3</td>\n",
       "      <td>2.00</td>\n",
       "      <td>133</td>\n",
       "      <td>0</td>\n",
       "      <td>14.2212</td>\n",
       "    </tr>\n",
       "    <tr>\n",
       "      <th>1</th>\n",
       "      <td>1.676</td>\n",
       "      <td>1.5</td>\n",
       "      <td>3</td>\n",
       "      <td>0.38</td>\n",
       "      <td>14</td>\n",
       "      <td>1</td>\n",
       "      <td>13.4865</td>\n",
       "    </tr>\n",
       "    <tr>\n",
       "      <th>2</th>\n",
       "      <td>1.694</td>\n",
       "      <td>2.0</td>\n",
       "      <td>3</td>\n",
       "      <td>0.96</td>\n",
       "      <td>15</td>\n",
       "      <td>1</td>\n",
       "      <td>11.8007</td>\n",
       "    </tr>\n",
       "    <tr>\n",
       "      <th>3</th>\n",
       "      <td>1.800</td>\n",
       "      <td>1.0</td>\n",
       "      <td>2</td>\n",
       "      <td>0.48</td>\n",
       "      <td>49</td>\n",
       "      <td>1</td>\n",
       "      <td>13.8297</td>\n",
       "    </tr>\n",
       "    <tr>\n",
       "      <th>4</th>\n",
       "      <td>2.088</td>\n",
       "      <td>1.0</td>\n",
       "      <td>3</td>\n",
       "      <td>1.84</td>\n",
       "      <td>29</td>\n",
       "      <td>1</td>\n",
       "      <td>12.9470</td>\n",
       "    </tr>\n",
       "  </tbody>\n",
       "</table>\n",
       "</div>"
      ],
      "text/plain": [
       "   Living Area  Bathrooms  Bedrooms  Lot Size  Age  Fireplace    Price\n",
       "0        1.982        1.0         3      2.00  133          0  14.2212\n",
       "1        1.676        1.5         3      0.38   14          1  13.4865\n",
       "2        1.694        2.0         3      0.96   15          1  11.8007\n",
       "3        1.800        1.0         2      0.48   49          1  13.8297\n",
       "4        2.088        1.0         3      1.84   29          1  12.9470"
      ]
     },
     "execution_count": 3,
     "metadata": {},
     "output_type": "execute_result"
    }
   ],
   "source": [
    "df.head()"
   ]
  },
  {
   "cell_type": "code",
   "execution_count": 4,
   "metadata": {
    "execution": {
     "iopub.execute_input": "2023-04-29T17:04:11.773701Z",
     "iopub.status.busy": "2023-04-29T17:04:11.773289Z",
     "iopub.status.idle": "2023-04-29T17:04:11.788493Z",
     "shell.execute_reply": "2023-04-29T17:04:11.787376Z",
     "shell.execute_reply.started": "2023-04-29T17:04:11.773667Z"
    }
   },
   "outputs": [
    {
     "data": {
      "text/html": [
       "<div>\n",
       "<style scoped>\n",
       "    .dataframe tbody tr th:only-of-type {\n",
       "        vertical-align: middle;\n",
       "    }\n",
       "\n",
       "    .dataframe tbody tr th {\n",
       "        vertical-align: top;\n",
       "    }\n",
       "\n",
       "    .dataframe thead th {\n",
       "        text-align: right;\n",
       "    }\n",
       "</style>\n",
       "<table border=\"1\" class=\"dataframe\">\n",
       "  <thead>\n",
       "    <tr style=\"text-align: right;\">\n",
       "      <th></th>\n",
       "      <th>Living Area</th>\n",
       "      <th>Bathrooms</th>\n",
       "      <th>Bedrooms</th>\n",
       "      <th>Lot Size</th>\n",
       "      <th>Age</th>\n",
       "      <th>Fireplace</th>\n",
       "      <th>Price</th>\n",
       "    </tr>\n",
       "  </thead>\n",
       "  <tbody>\n",
       "    <tr>\n",
       "      <th>1042</th>\n",
       "      <td>1.802</td>\n",
       "      <td>2.0</td>\n",
       "      <td>4</td>\n",
       "      <td>0.97</td>\n",
       "      <td>56</td>\n",
       "      <td>1</td>\n",
       "      <td>10.7695</td>\n",
       "    </tr>\n",
       "    <tr>\n",
       "      <th>1043</th>\n",
       "      <td>3.239</td>\n",
       "      <td>3.5</td>\n",
       "      <td>4</td>\n",
       "      <td>2.50</td>\n",
       "      <td>1</td>\n",
       "      <td>1</td>\n",
       "      <td>23.6737</td>\n",
       "    </tr>\n",
       "    <tr>\n",
       "      <th>1044</th>\n",
       "      <td>1.440</td>\n",
       "      <td>2.0</td>\n",
       "      <td>2</td>\n",
       "      <td>0.61</td>\n",
       "      <td>66</td>\n",
       "      <td>1</td>\n",
       "      <td>15.4829</td>\n",
       "    </tr>\n",
       "    <tr>\n",
       "      <th>1045</th>\n",
       "      <td>2.030</td>\n",
       "      <td>2.5</td>\n",
       "      <td>3</td>\n",
       "      <td>1.00</td>\n",
       "      <td>3</td>\n",
       "      <td>1</td>\n",
       "      <td>17.9492</td>\n",
       "    </tr>\n",
       "    <tr>\n",
       "      <th>1046</th>\n",
       "      <td>2.097</td>\n",
       "      <td>2.5</td>\n",
       "      <td>3</td>\n",
       "      <td>1.93</td>\n",
       "      <td>10</td>\n",
       "      <td>1</td>\n",
       "      <td>18.9108</td>\n",
       "    </tr>\n",
       "  </tbody>\n",
       "</table>\n",
       "</div>"
      ],
      "text/plain": [
       "      Living Area  Bathrooms  Bedrooms  Lot Size  Age  Fireplace    Price\n",
       "1042        1.802        2.0         4      0.97   56          1  10.7695\n",
       "1043        3.239        3.5         4      2.50    1          1  23.6737\n",
       "1044        1.440        2.0         2      0.61   66          1  15.4829\n",
       "1045        2.030        2.5         3      1.00    3          1  17.9492\n",
       "1046        2.097        2.5         3      1.93   10          1  18.9108"
      ]
     },
     "execution_count": 4,
     "metadata": {},
     "output_type": "execute_result"
    }
   ],
   "source": [
    "df.tail()"
   ]
  },
  {
   "cell_type": "markdown",
   "metadata": {},
   "source": [
    "Observation: Most of the features are are straight forward to understand and the spread of the data in the top and bottom of dataset seems to be distributed evenly"
   ]
  },
  {
   "cell_type": "markdown",
   "metadata": {},
   "source": [
    "### Finding the shape and data types in dataset"
   ]
  },
  {
   "cell_type": "markdown",
   "metadata": {},
   "source": [
    "df.shape"
   ]
  },
  {
   "cell_type": "markdown",
   "metadata": {},
   "source": [
    "Observation: data set consists of 1047 rows/observation and 7 attributes/features"
   ]
  },
  {
   "cell_type": "code",
   "execution_count": null,
   "metadata": {},
   "outputs": [],
   "source": [
    "df.info()"
   ]
  },
  {
   "cell_type": "markdown",
   "metadata": {},
   "source": [
    "Features are all numerical including floating and integer type"
   ]
  },
  {
   "cell_type": "markdown",
   "metadata": {},
   "source": [
    "### Statistical analysis of dataset and finding null values"
   ]
  },
  {
   "cell_type": "code",
   "execution_count": null,
   "metadata": {},
   "outputs": [],
   "source": [
    "df.describe()"
   ]
  },
  {
   "cell_type": "markdown",
   "metadata": {},
   "source": [
    "Observation: Outliers seems to be in lot size and Age features. Rest of the features has values which are not much deviating from mean."
   ]
  },
  {
   "cell_type": "code",
   "execution_count": null,
   "metadata": {},
   "outputs": [],
   "source": [
    "df.isnull().sum()/df.shape[1]"
   ]
  },
  {
   "cell_type": "markdown",
   "metadata": {},
   "source": [
    "Observation: There sre no missing values to handle."
   ]
  },
  {
   "cell_type": "markdown",
   "metadata": {},
   "source": [
    "# Visualization"
   ]
  },
  {
   "cell_type": "code",
   "execution_count": null,
   "metadata": {},
   "outputs": [],
   "source": [
    "plt.subplots(figsize=(6,6))\n",
    "plt.plot()\n",
    "sns.boxplot(df.Age, orient='h')"
   ]
  },
  {
   "cell_type": "code",
   "execution_count": null,
   "metadata": {},
   "outputs": [],
   "source": [
    "sns.distplot(df.Age)"
   ]
  },
  {
   "cell_type": "markdown",
   "metadata": {},
   "source": [
    "Inference: Age feature consists of outilers and it mostly right skewed which needs to be handled"
   ]
  },
  {
   "cell_type": "code",
   "execution_count": null,
   "metadata": {},
   "outputs": [],
   "source": [
    "data=df.drop(['Age','Price'], axis=1)"
   ]
  },
  {
   "cell_type": "code",
   "execution_count": null,
   "metadata": {},
   "outputs": [],
   "source": [
    "sns.boxplot(data=data, orient='v')"
   ]
  },
  {
   "cell_type": "code",
   "execution_count": null,
   "metadata": {},
   "outputs": [],
   "source": [
    "sns.distplot(df['Lot Size'])"
   ]
  },
  {
   "cell_type": "code",
   "execution_count": null,
   "metadata": {},
   "outputs": [],
   "source": [
    "sns.distplot(df['Living Area'])"
   ]
  },
  {
   "cell_type": "markdown",
   "metadata": {},
   "source": [
    "Inference: Lot Size and living area has outliers and mostly right skewed which needs to be handled"
   ]
  },
  {
   "cell_type": "markdown",
   "metadata": {},
   "source": [
    "### Scaling features to handle outliers instead of using IQR or z score methods as there are only 1000+ obersvations to build best model"
   ]
  },
  {
   "cell_type": "markdown",
   "metadata": {},
   "source": [
    "### Age"
   ]
  },
  {
   "cell_type": "code",
   "execution_count": null,
   "metadata": {},
   "outputs": [],
   "source": [
    "from sklearn.preprocessing import FunctionTransformer\n",
    "ft=FunctionTransformer(np.log)\n",
    "df['Age_log']=ft.fit_transform(df[['Age']])"
   ]
  },
  {
   "cell_type": "markdown",
   "metadata": {},
   "source": [
    "### Lot Size"
   ]
  },
  {
   "cell_type": "code",
   "execution_count": null,
   "metadata": {},
   "outputs": [],
   "source": [
    "ff=FunctionTransformer(np.log)\n",
    "df['LotSize_log']=ft.fit_transform(df[['Lot Size']])"
   ]
  },
  {
   "cell_type": "markdown",
   "metadata": {},
   "source": [
    "### Living Area"
   ]
  },
  {
   "cell_type": "code",
   "execution_count": null,
   "metadata": {},
   "outputs": [],
   "source": [
    "ff=FunctionTransformer(np.log)\n",
    "df['Living_log']=ft.fit_transform(df[['Living Area']])"
   ]
  },
  {
   "cell_type": "code",
   "execution_count": null,
   "metadata": {},
   "outputs": [],
   "source": [
    "df.columns"
   ]
  },
  {
   "cell_type": "code",
   "execution_count": null,
   "metadata": {},
   "outputs": [],
   "source": [
    "plt.subplots(figsize=(6,6))\n",
    "sns.boxplot(df.Age_log, orient='h')"
   ]
  },
  {
   "cell_type": "code",
   "execution_count": null,
   "metadata": {},
   "outputs": [],
   "source": [
    "plt.subplots(figsize=(6,6))\n",
    "sns.boxplot(df.LotSize_log, orient='h')"
   ]
  },
  {
   "cell_type": "code",
   "execution_count": null,
   "metadata": {},
   "outputs": [],
   "source": [
    "plt.subplots(figsize=(6,6))\n",
    "sns.boxplot(df.Living_log, orient='h')"
   ]
  },
  {
   "cell_type": "markdown",
   "metadata": {},
   "source": [
    "Inference: Age and living area feature's outliers are handled but Lot size consists of outliers"
   ]
  },
  {
   "cell_type": "markdown",
   "metadata": {},
   "source": [
    "### Replacing 'inf' values with Nan and dropping values"
   ]
  },
  {
   "cell_type": "code",
   "execution_count": null,
   "metadata": {},
   "outputs": [],
   "source": [
    "df.replace(-np.inf, np.nan, inplace=True)\n",
    "df.dropna(axis=0, inplace=True)"
   ]
  },
  {
   "cell_type": "code",
   "execution_count": null,
   "metadata": {},
   "outputs": [],
   "source": [
    "sns.distplot(df.Age_log)"
   ]
  },
  {
   "cell_type": "markdown",
   "metadata": {},
   "source": [
    "Inference: Age_log feature doesn't contain outliers but graph is not normal. Model can be built and then its wise to mtake a decision on this feature"
   ]
  },
  {
   "cell_type": "code",
   "execution_count": null,
   "metadata": {},
   "outputs": [],
   "source": [
    "sns.distplot(df.LotSize_log)"
   ]
  },
  {
   "cell_type": "markdown",
   "metadata": {},
   "source": [
    "Inference: Lot Size still consists of outliers but almost equal to normal graph. Model can be built and then its wise to mtake a decision on this feature"
   ]
  },
  {
   "cell_type": "code",
   "execution_count": null,
   "metadata": {},
   "outputs": [],
   "source": [
    "sns.distplot(df.Living_log)"
   ]
  },
  {
   "cell_type": "markdown",
   "metadata": {},
   "source": [
    "Inference: Living area does not consists of outliers and almost equal to normal graph. Model can be built and then its wise to mtake a decision on this feature"
   ]
  },
  {
   "cell_type": "code",
   "execution_count": null,
   "metadata": {},
   "outputs": [],
   "source": [
    "sns.jointplot(df.Age_log, df.Price)"
   ]
  },
  {
   "cell_type": "markdown",
   "metadata": {},
   "source": [
    "Inference: Varied price range can be observed for less aged houses but price ranges are little low for aged houses."
   ]
  },
  {
   "cell_type": "code",
   "execution_count": null,
   "metadata": {},
   "outputs": [],
   "source": [
    "data=df.drop(['Age','Lot Size','Living Area'], axis=1)\n",
    "g=sns.pairplot(data=data)"
   ]
  },
  {
   "cell_type": "markdown",
   "metadata": {},
   "source": [
    "Inference: Price Appears o have linear relationship with living log and inversly related with Age"
   ]
  },
  {
   "cell_type": "code",
   "execution_count": null,
   "metadata": {},
   "outputs": [],
   "source": [
    "sns.countplot(df.Bedrooms)"
   ]
  },
  {
   "cell_type": "markdown",
   "metadata": {},
   "source": [
    "Inference: There are maximum number of 3 bedroom houses"
   ]
  },
  {
   "cell_type": "code",
   "execution_count": null,
   "metadata": {},
   "outputs": [],
   "source": [
    "sns.violinplot(df.Fireplace, df.Price)"
   ]
  },
  {
   "cell_type": "markdown",
   "metadata": {},
   "source": [
    "Inference: House price is lesser for houses without fireplace when compared to those which have"
   ]
  },
  {
   "cell_type": "code",
   "execution_count": null,
   "metadata": {},
   "outputs": [],
   "source": [
    "sns.barplot(df.Bedrooms, df.Price, hue=df.Fireplace, palette='autumn')"
   ]
  },
  {
   "cell_type": "markdown",
   "metadata": {},
   "source": [
    "Inference:Single bedroom with/without fireplace costs the same but as the number of bedrooms increases, with fireplace costs more than without."
   ]
  },
  {
   "cell_type": "code",
   "execution_count": null,
   "metadata": {},
   "outputs": [],
   "source": [
    "sns.swarmplot(df.Bathrooms, df.Price)"
   ]
  },
  {
   "cell_type": "markdown",
   "metadata": {},
   "source": [
    "Inference: Houses with lesser number of bathrooms have less price. But the range of price spread is greater with 1.5 to 2.5 bathrooms."
   ]
  },
  {
   "cell_type": "markdown",
   "metadata": {},
   "source": [
    "# Cleaned Dataset ready for prediction"
   ]
  },
  {
   "cell_type": "code",
   "execution_count": null,
   "metadata": {},
   "outputs": [],
   "source": [
    "df.head()"
   ]
  },
  {
   "cell_type": "code",
   "execution_count": null,
   "metadata": {},
   "outputs": [],
   "source": [
    "df.shape"
   ]
  },
  {
   "cell_type": "code",
   "execution_count": null,
   "metadata": {},
   "outputs": [],
   "source": [
    "df.isnull().sum()"
   ]
  },
  {
   "cell_type": "markdown",
   "metadata": {},
   "source": [
    "## Dataset with transfomed features which helps to predict good model"
   ]
  },
  {
   "cell_type": "code",
   "execution_count": null,
   "metadata": {},
   "outputs": [],
   "source": [
    "df.drop(['Age','Lot Size','Living Area'], axis=1, inplace= True)"
   ]
  },
  {
   "cell_type": "code",
   "execution_count": null,
   "metadata": {},
   "outputs": [],
   "source": [
    "df.head()"
   ]
  },
  {
   "cell_type": "markdown",
   "metadata": {},
   "source": [
    "# Initial LR model"
   ]
  },
  {
   "cell_type": "code",
   "execution_count": null,
   "metadata": {},
   "outputs": [],
   "source": [
    "x=df.drop(['Price'], axis=1)\n",
    "y=df['Price']"
   ]
  },
  {
   "cell_type": "code",
   "execution_count": null,
   "metadata": {},
   "outputs": [],
   "source": [
    "from sklearn.model_selection import train_test_split\n",
    "from sklearn.metrics import r2_score,mean_squared_error\n",
    "X_train,X_test,y_train,y_test=train_test_split(x,y,test_size=.3, random_state=1 )"
   ]
  },
  {
   "cell_type": "code",
   "execution_count": null,
   "metadata": {},
   "outputs": [],
   "source": [
    "from sklearn.linear_model import LinearRegression\n",
    "lr=LinearRegression()\n",
    "lr.fit(X_train,y_train)\n",
    "print(\"coefficients are \",lr.coef_,\"intercept is \", lr.intercept_)\n",
    "print()\n",
    "print('r2 score for training data: ',r2_score(y_train, lr.predict(X_train)))\n",
    "print('r2 score for testing data: ',r2_score(y_test, lr.predict(X_test)))\n",
    "print('rmse score: ',np.sqrt(mean_squared_error(y_train, lr.predict(X_train))))"
   ]
  },
  {
   "cell_type": "markdown",
   "metadata": {},
   "source": [
    "##### Inference: Cost function seems high and tunning of the model is necessary to get a better r2 score. Model seems overfitting"
   ]
  },
  {
   "cell_type": "markdown",
   "metadata": {},
   "source": [
    "# OLS Model pearson correlation values for features"
   ]
  },
  {
   "cell_type": "code",
   "execution_count": null,
   "metadata": {},
   "outputs": [],
   "source": [
    "import statsmodels.api as sm\n",
    "xc=sm.add_constant(x)\n",
    "model=sm.OLS(y,xc).fit()\n",
    "model.summary()"
   ]
  },
  {
   "cell_type": "markdown",
   "metadata": {},
   "source": [
    "###### Observation: JB value is higher and Bedrooms p-value is more than level of significance. Target is lightly skewed with peakedness. Features needs to be tuned to build better model"
   ]
  },
  {
   "cell_type": "markdown",
   "metadata": {},
   "source": [
    "# Checking for assumptions:"
   ]
  },
  {
   "cell_type": "markdown",
   "metadata": {},
   "source": [
    "### 1. No auto correlation "
   ]
  },
  {
   "cell_type": "code",
   "execution_count": null,
   "metadata": {},
   "outputs": [],
   "source": [
    "import statsmodels.tsa.api as smt\n",
    "pattern=smt.graphics.plot_acf(model.resid, lags=40)\n",
    "pattern.show()"
   ]
  },
  {
   "cell_type": "markdown",
   "metadata": {},
   "source": [
    "Inference: pattern is neither cyclic nor alternative. DB constant is about 1.62 which exhibits a min correlation between residuals"
   ]
  },
  {
   "cell_type": "markdown",
   "metadata": {},
   "source": [
    "### 2. Normality of residuals"
   ]
  },
  {
   "cell_type": "code",
   "execution_count": null,
   "metadata": {},
   "outputs": [],
   "source": [
    "from scipy.stats import norm\n",
    "sns.distplot(model.resid, fit=norm)"
   ]
  },
  {
   "cell_type": "code",
   "execution_count": null,
   "metadata": {},
   "outputs": [],
   "source": [
    "import scipy.stats as st\n",
    "st.jarque_bera(model.resid)"
   ]
  },
  {
   "cell_type": "markdown",
   "metadata": {},
   "source": [
    "Inference: p-value should be greater than .05 but the value shows 0.0, therefore feature scaling is necessary"
   ]
  },
  {
   "cell_type": "code",
   "execution_count": null,
   "metadata": {},
   "outputs": [],
   "source": [
    "x=df.drop(['Price'], axis=1)\n",
    "x=x.transform(lambda x: x**2)\n",
    "y=df['Price'].transform(lambda x: x**(1/3))"
   ]
  },
  {
   "cell_type": "code",
   "execution_count": null,
   "metadata": {},
   "outputs": [],
   "source": [
    "import statsmodels.api as sm\n",
    "xc=sm.add_constant(x)\n",
    "model=sm.OLS(y,xc).fit()\n",
    "model.summary()"
   ]
  },
  {
   "cell_type": "code",
   "execution_count": null,
   "metadata": {},
   "outputs": [],
   "source": [
    "st.jarque_bera(model.resid)"
   ]
  },
  {
   "cell_type": "markdown",
   "metadata": {},
   "source": [
    "Inference: Residuals are not following normality. Hence the assumption is not satisfied"
   ]
  },
  {
   "cell_type": "markdown",
   "metadata": {},
   "source": [
    "### 3. Linearity in residuals"
   ]
  },
  {
   "cell_type": "code",
   "execution_count": null,
   "metadata": {},
   "outputs": [],
   "source": [
    "sns.regplot(x=y, y=model.predict(), lowess=True, line_kws={'color':'red'})\n",
    "plt.xlabel('y actual')\n",
    "plt.ylabel('y prediction')"
   ]
  },
  {
   "cell_type": "code",
   "execution_count": null,
   "metadata": {},
   "outputs": [],
   "source": [
    "st.probplot(model.resid, plot=plt)\n",
    "plt.show()"
   ]
  },
  {
   "cell_type": "code",
   "execution_count": null,
   "metadata": {},
   "outputs": [],
   "source": [
    "sm.stats.linear_rainbow(res=model)"
   ]
  },
  {
   "cell_type": "markdown",
   "metadata": {},
   "source": [
    "Inference: As p-value> .05, the residuals appears to be linear"
   ]
  },
  {
   "cell_type": "markdown",
   "metadata": {},
   "source": [
    "### 4. Homoscedacity of residuals"
   ]
  },
  {
   "cell_type": "code",
   "execution_count": null,
   "metadata": {},
   "outputs": [],
   "source": [
    "sns.regplot(x=model.predict(), y=model.resid, lowess=True, line_kws={'color':'red'})"
   ]
  },
  {
   "cell_type": "code",
   "execution_count": null,
   "metadata": {},
   "outputs": [],
   "source": [
    "import statsmodels.stats.api as stt\n",
    "stt.het_goldfeldquandt(model.resid, model.model.exog)"
   ]
  },
  {
   "cell_type": "markdown",
   "metadata": {},
   "source": [
    "Inference: As p-value is greater than .05, residuals are homoscedasctic in nature"
   ]
  },
  {
   "cell_type": "markdown",
   "metadata": {},
   "source": [
    "### 5. Multicolinearity between features"
   ]
  },
  {
   "cell_type": "code",
   "execution_count": null,
   "metadata": {},
   "outputs": [],
   "source": [
    "from statsmodels.stats.outliers_influence import variance_inflation_factor\n",
    "vif=[variance_inflation_factor(x.values,i) for i in range(x.shape[1])]\n",
    "v=pd.DataFrame({'vif':vif[:]}, index=x.columns)"
   ]
  },
  {
   "cell_type": "code",
   "execution_count": null,
   "metadata": {},
   "outputs": [],
   "source": [
    "v.T"
   ]
  },
  {
   "cell_type": "code",
   "execution_count": null,
   "metadata": {},
   "outputs": [],
   "source": [
    "sns.heatmap(df.corr(), annot=True)"
   ]
  },
  {
   "cell_type": "markdown",
   "metadata": {},
   "source": [
    "Inference: VIF seems low for all variables and only correlation exists between bathrooms and living area which will be handled"
   ]
  },
  {
   "cell_type": "markdown",
   "metadata": {},
   "source": [
    "# Models"
   ]
  },
  {
   "cell_type": "markdown",
   "metadata": {},
   "source": [
    "## Recursive method of elimination"
   ]
  },
  {
   "cell_type": "code",
   "execution_count": null,
   "metadata": {},
   "outputs": [],
   "source": [
    "import numpy as np\n",
    "from sklearn.model_selection import train_test_split\n",
    "from sklearn.feature_selection import RFE\n",
    "from sklearn.linear_model import LinearRegression\n",
    "no_of_features=np.arange(1,7)\n",
    "highscore=0\n",
    "score_list=[]\n",
    "x=df.drop(['Price'], axis=1)\n",
    "x=x.transform(lambda x: x**2)\n",
    "y=df['Price'].transform(lambda x: x**(1/3))\n",
    "for i in range(len(no_of_features)):\n",
    "    X_train,X_test,y_train,y_test=train_test_split(x,y, test_size=.2, random_state=1)\n",
    "    model=LinearRegression()\n",
    "    rfe=RFE(model, no_of_features[i])\n",
    "    X_rfe_train=rfe.fit_transform(X_train,y_train)\n",
    "    X_rfe_test=rfe.transform(X_test)\n",
    "    model.fit(X_rfe_train,y_train)\n",
    "    score=model.score(X_rfe_test,y_test)\n",
    "    print(score, end=' ')\n",
    "    score_list.append(score)\n",
    "    if score>highscore:\n",
    "        highscore=score\n",
    "        nof=no_of_features[i]\n",
    "print()        \n",
    "print(\"Optimum number of feature to be selected is \", nof, \" and its r2 is \",highscore)"
   ]
  },
  {
   "cell_type": "markdown",
   "metadata": {},
   "source": [
    "##### Inference: The r2 score is with 59% accuracy. recursiveve method of elimination cannot be considered"
   ]
  },
  {
   "cell_type": "markdown",
   "metadata": {},
   "source": [
    "# VIF"
   ]
  },
  {
   "cell_type": "code",
   "execution_count": null,
   "metadata": {},
   "outputs": [],
   "source": [
    "thres=5.0\n",
    "op=pd.DataFrame()\n",
    "x=df.drop(['Price'], axis=1)\n",
    "x=x.transform(lambda x: x**2)\n",
    "y=df['Price'].transform(lambda x: x**(1/3))\n",
    "k=len(x.columns)\n",
    "vif=[variance_inflation_factor(x.values, i) for i in range(x.shape[1])]\n",
    "for j in range(1,k+1):\n",
    "    print('iteration num ',j)\n",
    "    print(vif)\n",
    "    a=np.argmax(vif)\n",
    "    print(\"the variable number is\", a)\n",
    "    if vif[a]<=thres:\n",
    "        break\n",
    "    elif j==1:\n",
    "        op=x.drop(x.columns[a], axis=1)\n",
    "        vif=[variance_inflation_factor(op.values,i) for i in range(op.shape[1])]\n",
    "    elif j>1:\n",
    "        op=op.drop(op.columns[a], axis=1)\n",
    "        vif=[variance_inflation_factor(op.values,i) for i in range(op.shape[1])]       \n",
    "op"
   ]
  },
  {
   "cell_type": "code",
   "execution_count": null,
   "metadata": {},
   "outputs": [],
   "source": [
    "x=df.drop(['Price','Bedrooms','Bathrooms'], axis=1)\n",
    "x=x.transform(lambda x: x**2)\n",
    "y=df['Price'].transform(lambda x: x**(1/3))\n",
    "from sklearn.model_selection import train_test_split\n",
    "from sklearn.metrics import r2_score,mean_squared_error\n",
    "X_train,X_test,y_train,y_test=train_test_split(x,y,test_size=.2, random_state=1 )\n",
    "from sklearn.linear_model import LinearRegression\n",
    "lr=LinearRegression()\n",
    "lr.fit(X_train,y_train)\n",
    "print(\"coefficients are \",lr.coef_,\"intercept is \", lr.intercept_)\n",
    "print()\n",
    "print('r2 score of train is: ',r2_score(y_train, lr.predict(X_train)))\n",
    "print('r2 score of test is: ',r2_score(y_test, lr.predict(X_test)))\n",
    "print('rmse score: ',np.sqrt(mean_squared_error(y_train, lr.predict(X_train))))"
   ]
  },
  {
   "cell_type": "markdown",
   "metadata": {},
   "source": [
    "##### Inference: The r2 score has been reduced. VIF method of elimination can be considered ."
   ]
  },
  {
   "cell_type": "markdown",
   "metadata": {},
   "source": [
    "## Linear Regression model with Backward elimination methodoloy"
   ]
  },
  {
   "cell_type": "code",
   "execution_count": null,
   "metadata": {},
   "outputs": [],
   "source": [
    "x=df.drop(['Price'], axis=1)\n",
    "x=x.transform(lambda x: x**2)\n",
    "y=df['Price'].transform(lambda x: x**(1/3))\n",
    "\n",
    "\n",
    "import statsmodels.api as sm\n",
    "cols=list(x.columns)\n",
    "pmax=1\n",
    "while(len(cols)>0):\n",
    "    p=[]\n",
    "    x_1=x[cols]\n",
    "    x_1=sm.add_constant(x_1)\n",
    "    model=sm.OLS(y,x_1).fit()\n",
    "    p=pd.Series(model.pvalues.values[1:], index=cols)\n",
    "    pmax=max(p)\n",
    "    feature_of_pmax=p.idxmax()\n",
    "    if (pmax>.05):\n",
    "        cols.remove(feature_of_pmax)\n",
    "    else:\n",
    "        break;\n",
    "selected_feature_BE=cols\n",
    "print(selected_feature_BE)"
   ]
  },
  {
   "cell_type": "code",
   "execution_count": null,
   "metadata": {},
   "outputs": [],
   "source": [
    "####As per backward elimination, Bedrooms and LotSize_log features are ommitted"
   ]
  },
  {
   "cell_type": "code",
   "execution_count": null,
   "metadata": {},
   "outputs": [],
   "source": [
    "from sklearn.model_selection import train_test_split\n",
    "from sklearn.metrics import r2_score,mean_squared_error\n",
    "x=df.drop(['Price','LotSize_log','Bedrooms'], axis=1)\n",
    "x=x.transform(lambda x: x**2)\n",
    "y=df['Price'].transform(lambda x: x**(1/3))\n",
    "X_train,X_test,y_train,y_test=train_test_split(x,y,test_size=.2, random_state=1 )\n",
    "from sklearn.linear_model import LinearRegression\n",
    "lr=LinearRegression()\n",
    "lr.fit(X_train,y_train)\n",
    "print(\"coefficients are \",lr.coef_,\"intercept is \", lr.intercept_)\n",
    "print()\n",
    "print('r2 score for training data: ',r2_score(y_train, lr.predict(X_train)))\n",
    "print('r2 score for testing data: ',r2_score(y_test, lr.predict(X_test)))\n",
    "print('rmse score: ',np.sqrt(mean_squared_error(y_train, lr.predict(X_train))))"
   ]
  },
  {
   "cell_type": "markdown",
   "metadata": {},
   "source": [
    "##### Inference: The RMSE rate has been reduced but the model has 60% accuracy"
   ]
  },
  {
   "cell_type": "markdown",
   "metadata": {},
   "source": [
    "# Ridge and Lasso with Grid Search Cross validation"
   ]
  },
  {
   "cell_type": "markdown",
   "metadata": {},
   "source": [
    "### Ridge"
   ]
  },
  {
   "cell_type": "code",
   "execution_count": null,
   "metadata": {},
   "outputs": [],
   "source": [
    "from sklearn.model_selection import GridSearchCV\n",
    "from sklearn.linear_model import Ridge,RidgeCV, Lasso,LassoCV\n",
    "x=df.drop(['Price','Bedrooms','LotSize_log'], axis=1)\n",
    "x=x.transform(lambda x: x**2)\n",
    "y=df['Price'].transform(lambda x: x**(1/3))\n",
    "X_train,X_test,y_train,y_test=train_test_split(x,y,test_size=.2, random_state=1 )\n",
    "alpha=[1e-15, 1e-10, 1e-8, 1e-4, 1e-3,1e-2, 1, 5, 10, 20,50,100]\n",
    "ridge=Ridge()\n",
    "parameters={'alpha':alpha}\n",
    "ridge_regressor=GridSearchCV(ridge,parameters,scoring='neg_mean_squared_error',cv=5)\n",
    "ridge_regressor.fit(X_train,y_train)"
   ]
  },
  {
   "cell_type": "code",
   "execution_count": null,
   "metadata": {},
   "outputs": [],
   "source": [
    "r_rmse=np.sqrt(mean_squared_error(ridge_regressor.predict(X_test), y_test))\n",
    "print(ridge_regressor.best_params_, \"and RMSE:\", r_rmse)\n",
    "print(\"r2 score train: \",r2_score(y_train, ridge_regressor.predict(X_train)), \n",
    "                                  \"r2 score test: \",r2_score(y_test, ridge_regressor.predict(X_test)))"
   ]
  },
  {
   "cell_type": "markdown",
   "metadata": {},
   "source": [
    "### Lasso "
   ]
  },
  {
   "cell_type": "code",
   "execution_count": null,
   "metadata": {},
   "outputs": [],
   "source": [
    "alpha=[1e-15, 1e-10, 1e-8, 1e-4, 1e-3,1e-2, 1, 5, 10, 20,50,100]\n",
    "lasso=Lasso()\n",
    "x=df.drop(['Price','LotSize_log','Bedrooms'], axis=1)\n",
    "x=x.transform(lambda x: x**2)\n",
    "y=df['Price'].transform(lambda x: x**(1/3))\n",
    "X_train,X_test,y_train,y_test=train_test_split(x,y,test_size=.2, random_state=1 )\n",
    "parameters={'alpha':alpha}\n",
    "lasso_regressor=GridSearchCV(lasso,parameters,scoring='neg_mean_squared_error',cv=5)\n",
    "lasso_regressor.fit(X_train,y_train)"
   ]
  },
  {
   "cell_type": "code",
   "execution_count": null,
   "metadata": {},
   "outputs": [],
   "source": [
    "l_rmse=np.sqrt(mean_squared_error(lasso_regressor.predict(X_test), y_test))\n",
    "print(lasso_regressor.best_params_, \"and RMSE:\", l_rmse)\n",
    "print(\"r2 score train: \",r2_score(y_train, lasso_regressor.predict(X_train)), \n",
    "                                  \"r2 score test: \",r2_score(y_test, lasso_regressor.predict(X_test)))"
   ]
  },
  {
   "cell_type": "markdown",
   "metadata": {},
   "source": [
    "# Final predictions with LR, Ridge and Lasso models"
   ]
  },
  {
   "cell_type": "code",
   "execution_count": null,
   "metadata": {},
   "outputs": [],
   "source": [
    "LR=lr.predict(X_test)\n",
    "RR=ridge_regressor.predict(X_test)\n",
    "LL=lasso_regressor.predict(X_test)\n",
    "actual=y_test.values\n",
    "FinalDF=pd.DataFrame(actual, columns=['Actual'])\n",
    "FinalDF['LR prediction']=LR\n",
    "FinalDF['Ridge prediction']=RR\n",
    "FinalDF['Lasso Prediction']=LL"
   ]
  },
  {
   "cell_type": "code",
   "execution_count": null,
   "metadata": {},
   "outputs": [],
   "source": [
    "FinalDF"
   ]
  },
  {
   "cell_type": "code",
   "execution_count": null,
   "metadata": {},
   "outputs": [],
   "source": [
    "fig, ax = plt.subplots(2,1 , figsize=(15,10))\n",
    "price_head=FinalDF.head(30)\n",
    "price_head.plot(kind='bar', ax=ax[0])\n",
    "price_tail=FinalDF.tail(30)\n",
    "price_tail.plot(kind='bar', ax=ax[1])"
   ]
  },
  {
   "cell_type": "markdown",
   "metadata": {},
   "source": [
    "#### Inference: 60% of accuracy can be obtained from all the three models with 0.21 RMSE value "
   ]
  },
  {
   "cell_type": "markdown",
   "metadata": {},
   "source": [
    "# Final scores of different models applied"
   ]
  },
  {
   "cell_type": "code",
   "execution_count": null,
   "metadata": {},
   "outputs": [],
   "source": [
    "r2_train=[r2_score(y_train, lr.predict(X_train)), r2_score(y_train, lasso_regressor.predict(X_train)),r2_score(y_train, lasso_regressor.predict(X_train))]\n",
    "r2_test=[r2_score(y_test, lr.predict(X_test)),r2_score(y_test, lasso_regressor.predict(X_test)),r2_score(y_test, ridge_regressor.predict(X_test))]\n",
    "rmse=[np.sqrt(mean_squared_error(lr.predict(X_test), y_test)),np.sqrt(mean_squared_error(lasso_regressor.predict(X_test), y_test)),np.sqrt(mean_squared_error(ridge_regressor.predict(X_test), y_test))]"
   ]
  },
  {
   "cell_type": "code",
   "execution_count": null,
   "metadata": {},
   "outputs": [],
   "source": [
    "FinalScores=pd.DataFrame(r2_train, columns=['r2 train'], index=['LR','Lasso','Ridge'])\n",
    "FinalScores['r2 test']=r2_test\n",
    "FinalScores['RMSE']=rmse"
   ]
  },
  {
   "cell_type": "code",
   "execution_count": null,
   "metadata": {},
   "outputs": [],
   "source": [
    "FinalScores"
   ]
  },
  {
   "cell_type": "code",
   "execution_count": null,
   "metadata": {},
   "outputs": [],
   "source": []
  }
 ],
 "metadata": {
  "kernelspec": {
   "display_name": "Python 3 (ipykernel)",
   "language": "python",
   "name": "python3"
  },
  "language_info": {
   "codemirror_mode": {
    "name": "ipython",
    "version": 3
   },
   "file_extension": ".py",
   "mimetype": "text/x-python",
   "name": "python",
   "nbconvert_exporter": "python",
   "pygments_lexer": "ipython3",
   "version": "3.10.9"
  }
 },
 "nbformat": 4,
 "nbformat_minor": 4
}
